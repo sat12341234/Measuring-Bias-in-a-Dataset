{
 "cells": [
  {
   "cell_type": "markdown",
   "metadata": {
    "id": "hrVMS2bNVClF"
   },
   "source": [
    "## Load the HMDA Dataset"
   ]
  },
  {
   "cell_type": "code",
   "execution_count": 1,
   "metadata": {},
   "outputs": [
    {
     "name": "stdout",
     "output_type": "stream",
     "text": [
      "total 11964\r\n",
      "-rw-rw-r-- 1 satish satish 12246834 Jul  4 22:08  \u001b[0m\u001b[01;31mmortgage_data_balanced.pkl.gz\u001b[0m\r\n",
      "-rw-rw-r-- 1 satish satish     2417 Jul  4 22:18 'PARTIAL1. Load the HMDA dataset into a pandas dataframe.ipynb'\r\n"
     ]
    }
   ],
   "source": [
    "ls -l"
   ]
  },
  {
   "cell_type": "code",
   "execution_count": 2,
   "metadata": {
    "id": "s5pYM-KQ6BPq"
   },
   "outputs": [],
   "source": [
    "# Mount Google Drive locally \n",
    "# Using the instructions found here https://colab.research.google.com/notebooks/io.ipynb#scrollTo=u22w3BFiOveA&line=1&uniqifier=1\n",
    "\n",
    "!gunzip mortgage_data_balanced.pkl.gz"
   ]
  },
  {
   "cell_type": "code",
   "execution_count": 3,
   "metadata": {},
   "outputs": [
    {
     "name": "stdout",
     "output_type": "stream",
     "text": [
      "total 94596\r\n",
      "-rw-rw-r-- 1 satish satish 96859478 Jul  4 22:08  mortgage_data_balanced.pkl\r\n",
      "-rw-rw-r-- 1 satish satish     2417 Jul  4 22:18 'PARTIAL1. Load the HMDA dataset into a pandas dataframe.ipynb'\r\n"
     ]
    }
   ],
   "source": [
    "ls -l"
   ]
  },
  {
   "cell_type": "code",
   "execution_count": 6,
   "metadata": {},
   "outputs": [],
   "source": [
    "import pickle\n",
    "import pandas as pd"
   ]
  },
  {
   "cell_type": "code",
   "execution_count": 7,
   "metadata": {
    "id": "3awOwd0Nzkah"
   },
   "outputs": [],
   "source": [
    "# Load the pickled dataframe using the \"read_pickle()\"\" function from \"pandas\"\n",
    "df = pd.read_pickle('mortgage_data_balanced.pkl')"
   ]
  },
  {
   "cell_type": "markdown",
   "metadata": {
    "id": "46eBWfm6VJtW"
   },
   "source": [
    "## Inspect the Dataset"
   ]
  },
  {
   "cell_type": "code",
   "execution_count": 9,
   "metadata": {
    "id": "cCqhjvj6r7lz"
   },
   "outputs": [
    {
     "data": {
      "text/plain": [
       "(165950, 78)"
      ]
     },
     "execution_count": 9,
     "metadata": {},
     "output_type": "execute_result"
    }
   ],
   "source": [
    "# The \"shape\" property on a data frame outputs the number of rows and columns\n",
    "df.shape"
   ]
  },
  {
   "cell_type": "code",
   "execution_count": 10,
   "metadata": {
    "id": "g8zAFWGk0EfS"
   },
   "outputs": [
    {
     "data": {
      "text/html": [
       "<div>\n",
       "<style scoped>\n",
       "    .dataframe tbody tr th:only-of-type {\n",
       "        vertical-align: middle;\n",
       "    }\n",
       "\n",
       "    .dataframe tbody tr th {\n",
       "        vertical-align: top;\n",
       "    }\n",
       "\n",
       "    .dataframe thead th {\n",
       "        text-align: right;\n",
       "    }\n",
       "</style>\n",
       "<table border=\"1\" class=\"dataframe\">\n",
       "  <thead>\n",
       "    <tr style=\"text-align: right;\">\n",
       "      <th></th>\n",
       "      <th>as_of_year</th>\n",
       "      <th>respondent_id</th>\n",
       "      <th>agency_name</th>\n",
       "      <th>agency_abbr</th>\n",
       "      <th>agency_code</th>\n",
       "      <th>loan_type_name</th>\n",
       "      <th>loan_type</th>\n",
       "      <th>property_type_name</th>\n",
       "      <th>property_type</th>\n",
       "      <th>loan_purpose_name</th>\n",
       "      <th>...</th>\n",
       "      <th>edit_status_name</th>\n",
       "      <th>edit_status</th>\n",
       "      <th>sequence_number</th>\n",
       "      <th>population</th>\n",
       "      <th>minority_population</th>\n",
       "      <th>hud_median_family_income</th>\n",
       "      <th>tract_to_msamd_income</th>\n",
       "      <th>number_of_owner_occupied_units</th>\n",
       "      <th>number_of_1_to_4_family_units</th>\n",
       "      <th>application_date_indicator</th>\n",
       "    </tr>\n",
       "  </thead>\n",
       "  <tbody>\n",
       "    <tr>\n",
       "      <th>0</th>\n",
       "      <td>2011</td>\n",
       "      <td>0000009179</td>\n",
       "      <td>Office of the Comptroller of the Currency</td>\n",
       "      <td>OCC</td>\n",
       "      <td>1</td>\n",
       "      <td>Conventional</td>\n",
       "      <td>1</td>\n",
       "      <td>One-to-four family dwelling (other than manufa...</td>\n",
       "      <td>1</td>\n",
       "      <td>Refinancing</td>\n",
       "      <td>...</td>\n",
       "      <td>NaN</td>\n",
       "      <td>NaN</td>\n",
       "      <td>1653</td>\n",
       "      <td>5972.0</td>\n",
       "      <td>1.890000</td>\n",
       "      <td>66600.0</td>\n",
       "      <td>106.129997</td>\n",
       "      <td>1973.0</td>\n",
       "      <td>2194.0</td>\n",
       "      <td>0</td>\n",
       "    </tr>\n",
       "    <tr>\n",
       "      <th>1</th>\n",
       "      <td>2011</td>\n",
       "      <td>0000476810</td>\n",
       "      <td>Consumer Financial Protection Bureau</td>\n",
       "      <td>CFPB</td>\n",
       "      <td>9</td>\n",
       "      <td>Conventional</td>\n",
       "      <td>1</td>\n",
       "      <td>One-to-four family dwelling (other than manufa...</td>\n",
       "      <td>1</td>\n",
       "      <td>Refinancing</td>\n",
       "      <td>...</td>\n",
       "      <td>NaN</td>\n",
       "      <td>NaN</td>\n",
       "      <td>31273</td>\n",
       "      <td>4188.0</td>\n",
       "      <td>4.660000</td>\n",
       "      <td>49500.0</td>\n",
       "      <td>106.169998</td>\n",
       "      <td>1331.0</td>\n",
       "      <td>3113.0</td>\n",
       "      <td>0</td>\n",
       "    </tr>\n",
       "    <tr>\n",
       "      <th>2</th>\n",
       "      <td>2011</td>\n",
       "      <td>0000451965</td>\n",
       "      <td>Consumer Financial Protection Bureau</td>\n",
       "      <td>CFPB</td>\n",
       "      <td>9</td>\n",
       "      <td>Conventional</td>\n",
       "      <td>1</td>\n",
       "      <td>One-to-four family dwelling (other than manufa...</td>\n",
       "      <td>1</td>\n",
       "      <td>Refinancing</td>\n",
       "      <td>...</td>\n",
       "      <td>NaN</td>\n",
       "      <td>NaN</td>\n",
       "      <td>1164651</td>\n",
       "      <td>9565.0</td>\n",
       "      <td>42.529999</td>\n",
       "      <td>61200.0</td>\n",
       "      <td>100.330002</td>\n",
       "      <td>2504.0</td>\n",
       "      <td>3149.0</td>\n",
       "      <td>0</td>\n",
       "    </tr>\n",
       "    <tr>\n",
       "      <th>3</th>\n",
       "      <td>2011</td>\n",
       "      <td>0000030052</td>\n",
       "      <td>Federal Deposit Insurance Corporation</td>\n",
       "      <td>FDIC</td>\n",
       "      <td>3</td>\n",
       "      <td>Conventional</td>\n",
       "      <td>1</td>\n",
       "      <td>One-to-four family dwelling (other than manufa...</td>\n",
       "      <td>1</td>\n",
       "      <td>Home improvement</td>\n",
       "      <td>...</td>\n",
       "      <td>NaN</td>\n",
       "      <td>NaN</td>\n",
       "      <td>515</td>\n",
       "      <td>5928.0</td>\n",
       "      <td>9.990000</td>\n",
       "      <td>67400.0</td>\n",
       "      <td>170.520004</td>\n",
       "      <td>1755.0</td>\n",
       "      <td>2102.0</td>\n",
       "      <td>0</td>\n",
       "    </tr>\n",
       "    <tr>\n",
       "      <th>4</th>\n",
       "      <td>2011</td>\n",
       "      <td>0002888798</td>\n",
       "      <td>Federal Reserve System</td>\n",
       "      <td>FRS</td>\n",
       "      <td>2</td>\n",
       "      <td>FHA-insured</td>\n",
       "      <td>2</td>\n",
       "      <td>One-to-four family dwelling (other than manufa...</td>\n",
       "      <td>1</td>\n",
       "      <td>Home purchase</td>\n",
       "      <td>...</td>\n",
       "      <td>NaN</td>\n",
       "      <td>NaN</td>\n",
       "      <td>44491</td>\n",
       "      <td>4021.0</td>\n",
       "      <td>3.560000</td>\n",
       "      <td>54200.0</td>\n",
       "      <td>139.789993</td>\n",
       "      <td>1296.0</td>\n",
       "      <td>1487.0</td>\n",
       "      <td>0</td>\n",
       "    </tr>\n",
       "  </tbody>\n",
       "</table>\n",
       "<p>5 rows × 78 columns</p>\n",
       "</div>"
      ],
      "text/plain": [
       "   as_of_year respondent_id                                agency_name  \\\n",
       "0        2011    0000009179  Office of the Comptroller of the Currency   \n",
       "1        2011    0000476810       Consumer Financial Protection Bureau   \n",
       "2        2011    0000451965       Consumer Financial Protection Bureau   \n",
       "3        2011    0000030052      Federal Deposit Insurance Corporation   \n",
       "4        2011    0002888798                     Federal Reserve System   \n",
       "\n",
       "  agency_abbr  agency_code loan_type_name  loan_type  \\\n",
       "0         OCC            1   Conventional          1   \n",
       "1        CFPB            9   Conventional          1   \n",
       "2        CFPB            9   Conventional          1   \n",
       "3        FDIC            3   Conventional          1   \n",
       "4         FRS            2    FHA-insured          2   \n",
       "\n",
       "                                  property_type_name  property_type  \\\n",
       "0  One-to-four family dwelling (other than manufa...              1   \n",
       "1  One-to-four family dwelling (other than manufa...              1   \n",
       "2  One-to-four family dwelling (other than manufa...              1   \n",
       "3  One-to-four family dwelling (other than manufa...              1   \n",
       "4  One-to-four family dwelling (other than manufa...              1   \n",
       "\n",
       "  loan_purpose_name  ...  edit_status_name edit_status  sequence_number  \\\n",
       "0       Refinancing  ...               NaN         NaN             1653   \n",
       "1       Refinancing  ...               NaN         NaN            31273   \n",
       "2       Refinancing  ...               NaN         NaN          1164651   \n",
       "3  Home improvement  ...               NaN         NaN              515   \n",
       "4     Home purchase  ...               NaN         NaN            44491   \n",
       "\n",
       "   population minority_population  hud_median_family_income  \\\n",
       "0      5972.0            1.890000                   66600.0   \n",
       "1      4188.0            4.660000                   49500.0   \n",
       "2      9565.0           42.529999                   61200.0   \n",
       "3      5928.0            9.990000                   67400.0   \n",
       "4      4021.0            3.560000                   54200.0   \n",
       "\n",
       "  tract_to_msamd_income  number_of_owner_occupied_units  \\\n",
       "0            106.129997                          1973.0   \n",
       "1            106.169998                          1331.0   \n",
       "2            100.330002                          2504.0   \n",
       "3            170.520004                          1755.0   \n",
       "4            139.789993                          1296.0   \n",
       "\n",
       "  number_of_1_to_4_family_units  application_date_indicator  \n",
       "0                        2194.0                           0  \n",
       "1                        3113.0                           0  \n",
       "2                        3149.0                           0  \n",
       "3                        2102.0                           0  \n",
       "4                        1487.0                           0  \n",
       "\n",
       "[5 rows x 78 columns]"
      ]
     },
     "execution_count": 10,
     "metadata": {},
     "output_type": "execute_result"
    }
   ],
   "source": [
    "# The \"head()\" on a dataframe outputs the first five rows\n",
    "df.head()"
   ]
  },
  {
   "cell_type": "code",
   "execution_count": 11,
   "metadata": {
    "id": "yFpcuYffrrP3"
   },
   "outputs": [
    {
     "data": {
      "text/plain": [
       "Index(['as_of_year', 'respondent_id', 'agency_name', 'agency_abbr',\n",
       "       'agency_code', 'loan_type_name', 'loan_type', 'property_type_name',\n",
       "       'property_type', 'loan_purpose_name', 'loan_purpose',\n",
       "       'owner_occupancy_name', 'owner_occupancy', 'loan_amount_000s',\n",
       "       'preapproval_name', 'preapproval', 'action_taken_name', 'action_taken',\n",
       "       'msamd_name', 'msamd', 'state_name', 'state_abbr', 'state_code',\n",
       "       'county_name', 'county_code', 'census_tract_number',\n",
       "       'applicant_ethnicity_name', 'applicant_ethnicity',\n",
       "       'co_applicant_ethnicity_name', 'co_applicant_ethnicity',\n",
       "       'applicant_race_name_1', 'applicant_race_1', 'applicant_race_name_2',\n",
       "       'applicant_race_2', 'applicant_race_name_3', 'applicant_race_3',\n",
       "       'applicant_race_name_4', 'applicant_race_4', 'applicant_race_name_5',\n",
       "       'applicant_race_5', 'co_applicant_race_name_1', 'co_applicant_race_1',\n",
       "       'co_applicant_race_name_2', 'co_applicant_race_2',\n",
       "       'co_applicant_race_name_3', 'co_applicant_race_3',\n",
       "       'co_applicant_race_name_4', 'co_applicant_race_4',\n",
       "       'co_applicant_race_name_5', 'co_applicant_race_5', 'applicant_sex_name',\n",
       "       'applicant_sex', 'co_applicant_sex_name', 'co_applicant_sex',\n",
       "       'applicant_income_000s', 'purchaser_type_name', 'purchaser_type',\n",
       "       'denial_reason_name_1', 'denial_reason_1', 'denial_reason_name_2',\n",
       "       'denial_reason_2', 'denial_reason_name_3', 'denial_reason_3',\n",
       "       'rate_spread', 'hoepa_status_name', 'hoepa_status', 'lien_status_name',\n",
       "       'lien_status', 'edit_status_name', 'edit_status', 'sequence_number',\n",
       "       'population', 'minority_population', 'hud_median_family_income',\n",
       "       'tract_to_msamd_income', 'number_of_owner_occupied_units',\n",
       "       'number_of_1_to_4_family_units', 'application_date_indicator'],\n",
       "      dtype='object')"
      ]
     },
     "execution_count": 11,
     "metadata": {},
     "output_type": "execute_result"
    }
   ],
   "source": [
    "# The \"columns\" property on a dataframe outputs the name of the columns\n",
    "# Check https://files.consumerfinance.gov/hmda-historic-data-dictionaries/lar_record_codes.pdf for more details\n",
    "df.columns"
   ]
  },
  {
   "cell_type": "code",
   "execution_count": 12,
   "metadata": {
    "id": "ULZyzv3CnVcl"
   },
   "outputs": [
    {
     "data": {
      "text/plain": [
       "as_of_year                          int64\n",
       "respondent_id                      object\n",
       "agency_name                        object\n",
       "agency_abbr                        object\n",
       "agency_code                         int64\n",
       "                                   ...   \n",
       "hud_median_family_income          float64\n",
       "tract_to_msamd_income             float64\n",
       "number_of_owner_occupied_units    float64\n",
       "number_of_1_to_4_family_units     float64\n",
       "application_date_indicator          int64\n",
       "Length: 78, dtype: object"
      ]
     },
     "execution_count": 12,
     "metadata": {},
     "output_type": "execute_result"
    }
   ],
   "source": [
    "# The \"dtypes\" property on a dataframe outputs the types of each columns\n",
    "df.dtypes"
   ]
  },
  {
   "cell_type": "code",
   "execution_count": 13,
   "metadata": {},
   "outputs": [
    {
     "name": "stdout",
     "output_type": "stream",
     "text": [
      "<class 'pandas.core.frame.DataFrame'>\n",
      "RangeIndex: 165950 entries, 0 to 165949\n",
      "Data columns (total 78 columns):\n",
      " #   Column                          Non-Null Count   Dtype  \n",
      "---  ------                          --------------   -----  \n",
      " 0   as_of_year                      165950 non-null  int64  \n",
      " 1   respondent_id                   165950 non-null  object \n",
      " 2   agency_name                     165950 non-null  object \n",
      " 3   agency_abbr                     165950 non-null  object \n",
      " 4   agency_code                     165950 non-null  int64  \n",
      " 5   loan_type_name                  165950 non-null  object \n",
      " 6   loan_type                       165950 non-null  int64  \n",
      " 7   property_type_name              165950 non-null  object \n",
      " 8   property_type                   165950 non-null  int64  \n",
      " 9   loan_purpose_name               165950 non-null  object \n",
      " 10  loan_purpose                    165950 non-null  int64  \n",
      " 11  owner_occupancy_name            165950 non-null  object \n",
      " 12  owner_occupancy                 165950 non-null  int64  \n",
      " 13  loan_amount_000s                165950 non-null  int64  \n",
      " 14  preapproval_name                165950 non-null  object \n",
      " 15  preapproval                     165950 non-null  int64  \n",
      " 16  action_taken_name               165950 non-null  object \n",
      " 17  action_taken                    165950 non-null  int64  \n",
      " 18  msamd_name                      141539 non-null  object \n",
      " 19  msamd                           141539 non-null  float64\n",
      " 20  state_name                      165950 non-null  object \n",
      " 21  state_abbr                      165950 non-null  object \n",
      " 22  state_code                      165950 non-null  float64\n",
      " 23  county_name                     165950 non-null  object \n",
      " 24  county_code                     165950 non-null  float64\n",
      " 25  census_tract_number             165950 non-null  float64\n",
      " 26  applicant_ethnicity_name        165950 non-null  object \n",
      " 27  applicant_ethnicity             165950 non-null  int64  \n",
      " 28  co_applicant_ethnicity_name     165950 non-null  object \n",
      " 29  co_applicant_ethnicity          165950 non-null  int64  \n",
      " 30  applicant_race_name_1           165950 non-null  object \n",
      " 31  applicant_race_1                165950 non-null  int64  \n",
      " 32  applicant_race_name_2           626 non-null     object \n",
      " 33  applicant_race_2                626 non-null     float64\n",
      " 34  applicant_race_name_3           34 non-null      object \n",
      " 35  applicant_race_3                34 non-null      float64\n",
      " 36  applicant_race_name_4           9 non-null       object \n",
      " 37  applicant_race_4                9 non-null       float64\n",
      " 38  applicant_race_name_5           8 non-null       object \n",
      " 39  applicant_race_5                8 non-null       float64\n",
      " 40  co_applicant_race_name_1        165950 non-null  object \n",
      " 41  co_applicant_race_1             165950 non-null  int64  \n",
      " 42  co_applicant_race_name_2        217 non-null     object \n",
      " 43  co_applicant_race_2             217 non-null     float64\n",
      " 44  co_applicant_race_name_3        7 non-null       object \n",
      " 45  co_applicant_race_3             7 non-null       float64\n",
      " 46  co_applicant_race_name_4        2 non-null       object \n",
      " 47  co_applicant_race_4             2 non-null       float64\n",
      " 48  co_applicant_race_name_5        9 non-null       object \n",
      " 49  co_applicant_race_5             9 non-null       float64\n",
      " 50  applicant_sex_name              165950 non-null  object \n",
      " 51  applicant_sex                   165950 non-null  int64  \n",
      " 52  co_applicant_sex_name           165950 non-null  object \n",
      " 53  co_applicant_sex                165950 non-null  int64  \n",
      " 54  applicant_income_000s           165950 non-null  float64\n",
      " 55  purchaser_type_name             165950 non-null  object \n",
      " 56  purchaser_type                  165950 non-null  int64  \n",
      " 57  denial_reason_name_1            57121 non-null   object \n",
      " 58  denial_reason_1                 57121 non-null   float64\n",
      " 59  denial_reason_name_2            10863 non-null   object \n",
      " 60  denial_reason_2                 10863 non-null   float64\n",
      " 61  denial_reason_name_3            2114 non-null    object \n",
      " 62  denial_reason_3                 2114 non-null    float64\n",
      " 63  rate_spread                     2939 non-null    float64\n",
      " 64  hoepa_status_name               165950 non-null  object \n",
      " 65  hoepa_status                    165950 non-null  int64  \n",
      " 66  lien_status_name                165950 non-null  object \n",
      " 67  lien_status                     165950 non-null  int64  \n",
      " 68  edit_status_name                22429 non-null   object \n",
      " 69  edit_status                     22429 non-null   float64\n",
      " 70  sequence_number                 165950 non-null  int64  \n",
      " 71  population                      165950 non-null  float64\n",
      " 72  minority_population             165950 non-null  float64\n",
      " 73  hud_median_family_income        165950 non-null  float64\n",
      " 74  tract_to_msamd_income           165950 non-null  float64\n",
      " 75  number_of_owner_occupied_units  165950 non-null  float64\n",
      " 76  number_of_1_to_4_family_units   165950 non-null  float64\n",
      " 77  application_date_indicator      165950 non-null  int64  \n",
      "dtypes: float64(24), int64(20), object(34)\n",
      "memory usage: 98.8+ MB\n"
     ]
    }
   ],
   "source": [
    "df.info()"
   ]
  },
  {
   "cell_type": "code",
   "execution_count": null,
   "metadata": {},
   "outputs": [],
   "source": []
  },
  {
   "cell_type": "code",
   "execution_count": null,
   "metadata": {},
   "outputs": [],
   "source": []
  }
 ],
 "metadata": {
  "colab": {
   "collapsed_sections": [],
   "name": "1. Load the HMDA dataset into a pandas dataframe.ipynb",
   "provenance": []
  },
  "kernelspec": {
   "display_name": "Python 3",
   "language": "python",
   "name": "python3"
  },
  "language_info": {
   "codemirror_mode": {
    "name": "ipython",
    "version": 3
   },
   "file_extension": ".py",
   "mimetype": "text/x-python",
   "name": "python",
   "nbconvert_exporter": "python",
   "pygments_lexer": "ipython3",
   "version": "3.8.10"
  }
 },
 "nbformat": 4,
 "nbformat_minor": 1
}
